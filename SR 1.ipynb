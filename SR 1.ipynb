{
 "cells": [
  {
   "cell_type": "code",
   "execution_count": 1,
   "id": "babb1b08-251e-4b92-ade0-49936d20f692",
   "metadata": {},
   "outputs": [],
   "source": [
    "#Importing  Libraries\n",
    "import pandas as pd\n"
   ]
  },
  {
   "cell_type": "code",
   "execution_count": 2,
   "id": "1932d634-e03c-4510-bbbd-78675ff28bb2",
   "metadata": {},
   "outputs": [],
   "source": [
    "df = pd.read_csv(r'C:\\Users\\user\\Desktop\\Tp2 activity 5\\Informal_Settlement_Programme_-1898186875815614491.csv')"
   ]
  },
  {
   "cell_type": "markdown",
   "id": "8bb3fdc6-dfe2-4ed0-8e87-05b49a026cad",
   "metadata": {},
   "source": [
    "### SR1 - Data Sourcing \n",
    "\n",
    "#### Dataset Information\n",
    "**Dataset Source**: The dataset used for this analysis is publicly available from the City of Cape Town's Open Data Portal. It is titled \"Informal Settlements Programme\" and can be accessed [here](https://web1.capetown.gov.za/web1/opendatadataset/List). The specific dataset file is \"Informal_Settlement_Programme.csv\".\n",
    "\n",
    "#### Justification for Suitability\n",
    "\n",
    "**1. Data Completeness:**\n",
    "The dataset is comprehensive, including key attributes that describe various aspects of informal settlements. It contains information on settlement names, geographical coordinates, estimated household counts, service availability (water, sanitation, refuse collection, electricity), and more. The completeness of these attributes ensures that the dataset provides a holistic view of informal settlements, making it suitable for in-depth analysis.\n",
    "\n",
    "**2. Relevance:**\n",
    "The dataset is highly relevant to the analysis of informal settlements. It includes columns such as:\n",
    "- **WATER_SUPP (Water Supply)**: This column indicates the availability of water supply in each settlement. Access to water is a critical factor in assessing the living conditions and infrastructure needs of informal settlements.\n",
    "- **SANITATION**: This column provides information on the availability of sanitation facilities. Proper sanitation is essential for health and hygiene in informal settlements. \n",
    "\n",
    "These columns are particularly relevant as they directly relate to the core themes of infrastructure and basic services in informal settlements, which are key areas of concern for urban planning and development.\n",
    "\n",
    "**3. Credibility of the Source:**\n",
    "The dataset is provided by the City of Cape Town, a credible and official source. Government datasets are generally reliable as they are collected and maintained by official bodies, ensuring data accuracy and legitimacy.\n",
    "\n",
    "By choosing this dataset, we can ensure that our analysis is grounded in accurate, relevant, and comprehensive data, making our findings more reliable and actionable.\n"
   ]
  }
 ],
 "metadata": {
  "kernelspec": {
   "display_name": "Python 3 (ipykernel)",
   "language": "python",
   "name": "python3"
  },
  "language_info": {
   "codemirror_mode": {
    "name": "ipython",
    "version": 3
   },
   "file_extension": ".py",
   "mimetype": "text/x-python",
   "name": "python",
   "nbconvert_exporter": "python",
   "pygments_lexer": "ipython3",
   "version": "3.11.9"
  }
 },
 "nbformat": 4,
 "nbformat_minor": 5
}
