{
 "cells": [
  {
   "cell_type": "markdown",
   "id": "d2ffb0c7-4465-4f7e-8133-840070d6b5a9",
   "metadata": {},
   "source": [
    "Linear Search:\n",
    "\n",
    "Performance: Linear search has a time complexity of O(n), where n is the number of elements in the dataset. It sequentially checks each element in the dataset until the target element is found or the end of the dataset is reached. Suitability: Linear search is suitable for small datasets or when the dataset is unordered. It is simple to implement and does not require the dataset to be sorted beforehand. Binary Search:\n",
    "\n",
    "Performance: Binary search has a time complexity of O(log n), where n is the number of elements in the dataset. However, it requires the dataset to be sorted beforehand. Binary search divides the dataset in half at each step, significantly reducing the search space. Suitability: Binary search is suitable for large sorted datasets. It is much faster than linear search for large datasets due to its logarithmic time complexity."
   ]
  },
  {
   "cell_type": "code",
   "execution_count": 1,
   "id": "03a3c542-5005-4e15-b8af-df7513bdd197",
   "metadata": {},
   "outputs": [
    {
     "name": "stdout",
     "output_type": "stream",
     "text": [
      "Linear Search Result: -1\n",
      "Binary Search Result: -1\n"
     ]
    }
   ],
   "source": [
    "import pandas as pd\n",
    "\n",
    "# Load the dataset\n",
    "df = pd.read_csv(r'C:\\Users\\user\\Desktop\\Tp2 activity 5\\Informal_Settlement_Programme_-1898186875815614491.csv')\n",
    "\n",
    "# Function for Linear Search\n",
    "def linear_search(dataset, target):\n",
    "    for index, row in dataset.iterrows():\n",
    "        if row['NAME_OF_SE'] == target:\n",
    "            return index\n",
    "    return -1\n",
    "\n",
    "# Function for Binary Search (assuming the dataset is sorted by 'NAME_OF_SE')\n",
    "def binary_search(dataset, target):\n",
    "    left = 0\n",
    "    right = len(dataset) - 1\n",
    "    \n",
    "    while left <= right:\n",
    "        mid = (left + right) // 2\n",
    "        mid_value = dataset.iloc[mid]['NAME_OF_SE']\n",
    "        \n",
    "        if mid_value == target:\n",
    "            return mid\n",
    "        elif mid_value < target:\n",
    "            left = mid + 1\n",
    "        else:\n",
    "            right = mid - 1\n",
    "    \n",
    "    return -1\n",
    "\n",
    "# Search for a specific element using both algorithms\n",
    "target_element = \"Example Settlement\"\n",
    "linear_result = linear_search(df, target_element)\n",
    "binary_result = binary_search(df.sort_values(by='NAME_OF_SE'), target_element)\n",
    "\n",
    "print(\"Linear Search Result:\", linear_result)\n",
    "print(\"Binary Search Result:\", binary_result)\n"
   ]
  },
  {
   "cell_type": "code",
   "execution_count": null,
   "id": "131142a5-9590-44dd-bf1b-42128ce92069",
   "metadata": {},
   "outputs": [],
   "source": []
  }
 ],
 "metadata": {
  "kernelspec": {
   "display_name": "Python 3 (ipykernel)",
   "language": "python",
   "name": "python3"
  },
  "language_info": {
   "codemirror_mode": {
    "name": "ipython",
    "version": 3
   },
   "file_extension": ".py",
   "mimetype": "text/x-python",
   "name": "python",
   "nbconvert_exporter": "python",
   "pygments_lexer": "ipython3",
   "version": "3.11.9"
  }
 },
 "nbformat": 4,
 "nbformat_minor": 5
}
